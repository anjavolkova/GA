{
 "cells": [
  {
   "cell_type": "markdown",
   "id": "9fde59e3",
   "metadata": {},
   "source": [
    "# Merging the Spotify & Met cleaned databases\n",
    "\n",
    "Combining the met & spotify databases, to make one recommender system"
   ]
  },
  {
   "cell_type": "code",
   "execution_count": 49,
   "id": "1f6dff19",
   "metadata": {},
   "outputs": [
    {
     "data": {
      "text/html": [
       "<div>\n",
       "<style scoped>\n",
       "    .dataframe tbody tr th:only-of-type {\n",
       "        vertical-align: middle;\n",
       "    }\n",
       "\n",
       "    .dataframe tbody tr th {\n",
       "        vertical-align: top;\n",
       "    }\n",
       "\n",
       "    .dataframe thead th {\n",
       "        text-align: right;\n",
       "    }\n",
       "</style>\n",
       "<table border=\"1\" class=\"dataframe\">\n",
       "  <thead>\n",
       "    <tr style=\"text-align: right;\">\n",
       "      <th></th>\n",
       "      <th>0</th>\n",
       "      <th>1</th>\n",
       "    </tr>\n",
       "  </thead>\n",
       "  <tbody>\n",
       "    <tr>\n",
       "      <th>0</th>\n",
       "      <td>NaN</td>\n",
       "      <td>0</td>\n",
       "    </tr>\n",
       "    <tr>\n",
       "      <th>1</th>\n",
       "      <td>0.0</td>\n",
       "      <td>Call on Me  Ryan Back</td>\n",
       "    </tr>\n",
       "    <tr>\n",
       "      <th>2</th>\n",
       "      <td>1.0</td>\n",
       "      <td>You Make Me Feel Like A Natural Woman</td>\n",
       "    </tr>\n",
       "    <tr>\n",
       "      <th>3</th>\n",
       "      <td>2.0</td>\n",
       "      <td>Lush Life Is Now</td>\n",
       "    </tr>\n",
       "    <tr>\n",
       "      <th>4</th>\n",
       "      <td>3.0</td>\n",
       "      <td>None Of These Dollars in the Black</td>\n",
       "    </tr>\n",
       "    <tr>\n",
       "      <th>...</th>\n",
       "      <td>...</td>\n",
       "      <td>...</td>\n",
       "    </tr>\n",
       "    <tr>\n",
       "      <th>19888</th>\n",
       "      <td>19887.0</td>\n",
       "      <td>Rio the Second</td>\n",
       "    </tr>\n",
       "    <tr>\n",
       "      <th>19889</th>\n",
       "      <td>19888.0</td>\n",
       "      <td>I See Light In You  Face</td>\n",
       "    </tr>\n",
       "    <tr>\n",
       "      <th>19890</th>\n",
       "      <td>19889.0</td>\n",
       "      <td>The One That I Like</td>\n",
       "    </tr>\n",
       "    <tr>\n",
       "      <th>19891</th>\n",
       "      <td>19890.0</td>\n",
       "      <td>Molly Child</td>\n",
       "    </tr>\n",
       "    <tr>\n",
       "      <th>19892</th>\n",
       "      <td>19891.0</td>\n",
       "      <td>Rio the Hush</td>\n",
       "    </tr>\n",
       "  </tbody>\n",
       "</table>\n",
       "<p>19893 rows × 2 columns</p>\n",
       "</div>"
      ],
      "text/plain": [
       "             0                                      1\n",
       "0          NaN                                      0\n",
       "1          0.0                 Call on Me  Ryan Back \n",
       "2          1.0  You Make Me Feel Like A Natural Woman\n",
       "3          2.0                       Lush Life Is Now\n",
       "4          3.0     None Of These Dollars in the Black\n",
       "...        ...                                    ...\n",
       "19888  19887.0                         Rio the Second\n",
       "19889  19888.0               I See Light In You  Face\n",
       "19890  19889.0                    The One That I Like\n",
       "19891  19890.0                           Molly Child \n",
       "19892  19891.0                          Rio the Hush \n",
       "\n",
       "[19893 rows x 2 columns]"
      ]
     },
     "execution_count": 49,
     "metadata": {},
     "output_type": "execute_result"
    }
   ],
   "source": [
    "import numpy as np\n",
    "import pandas as pd\n",
    "\n",
    "df = pd.read_csv(\"TITLESSPELLCHECK14MAY.csv\", header=None)\n",
    "df"
   ]
  },
  {
   "cell_type": "code",
   "execution_count": 50,
   "id": "e3b1424a",
   "metadata": {},
   "outputs": [],
   "source": [
    "df = df.drop(0)"
   ]
  },
  {
   "cell_type": "code",
   "execution_count": 51,
   "id": "561a7109",
   "metadata": {},
   "outputs": [
    {
     "data": {
      "text/plain": [
       "1                       Call on Me  Ryan Back \n",
       "2        You Make Me Feel Like A Natural Woman\n",
       "3                             Lush Life Is Now\n",
       "4           None Of These Dollars in the Black\n",
       "5              You Really Got Int Woman Enough\n",
       "                         ...                  \n",
       "19888                           Rio the Second\n",
       "19889                 I See Light In You  Face\n",
       "19890                      The One That I Like\n",
       "19891                             Molly Child \n",
       "19892                            Rio the Hush \n",
       "Name: 1, Length: 19892, dtype: object"
      ]
     },
     "execution_count": 51,
     "metadata": {},
     "output_type": "execute_result"
    }
   ],
   "source": [
    "df=df[1]\n",
    "df"
   ]
  },
  {
   "cell_type": "code",
   "execution_count": 52,
   "id": "35f8e984",
   "metadata": {},
   "outputs": [
    {
     "data": {
      "text/html": [
       "<div>\n",
       "<style scoped>\n",
       "    .dataframe tbody tr th:only-of-type {\n",
       "        vertical-align: middle;\n",
       "    }\n",
       "\n",
       "    .dataframe tbody tr th {\n",
       "        vertical-align: top;\n",
       "    }\n",
       "\n",
       "    .dataframe thead th {\n",
       "        text-align: right;\n",
       "    }\n",
       "</style>\n",
       "<table border=\"1\" class=\"dataframe\">\n",
       "  <thead>\n",
       "    <tr style=\"text-align: right;\">\n",
       "      <th></th>\n",
       "      <th>0</th>\n",
       "      <th>1</th>\n",
       "    </tr>\n",
       "  </thead>\n",
       "  <tbody>\n",
       "    <tr>\n",
       "      <th>0</th>\n",
       "      <td>NaN</td>\n",
       "      <td>0</td>\n",
       "    </tr>\n",
       "    <tr>\n",
       "      <th>1</th>\n",
       "      <td>0.0</td>\n",
       "      <td>the Madonna and Child with the Infant</td>\n",
       "    </tr>\n",
       "    <tr>\n",
       "      <th>2</th>\n",
       "      <td>1.0</td>\n",
       "      <td>the Virgin and Child with the Infant</td>\n",
       "    </tr>\n",
       "    <tr>\n",
       "      <th>3</th>\n",
       "      <td>2.0</td>\n",
       "      <td>and Bravo Cigarettes</td>\n",
       "    </tr>\n",
       "    <tr>\n",
       "      <th>4</th>\n",
       "      <td>3.0</td>\n",
       "      <td>The Pirates Retreat from the Pirates of the</td>\n",
       "    </tr>\n",
       "    <tr>\n",
       "      <th>...</th>\n",
       "      <td>...</td>\n",
       "      <td>...</td>\n",
       "    </tr>\n",
       "    <tr>\n",
       "      <th>6239</th>\n",
       "      <td>6238.0</td>\n",
       "      <td>theWuther Demo</td>\n",
       "    </tr>\n",
       "    <tr>\n",
       "      <th>6240</th>\n",
       "      <td>6239.0</td>\n",
       "      <td>the Man with a Gun Theme</td>\n",
       "    </tr>\n",
       "    <tr>\n",
       "      <th>6241</th>\n",
       "      <td>6240.0</td>\n",
       "      <td>Prelude in Sharp</td>\n",
       "    </tr>\n",
       "    <tr>\n",
       "      <th>6242</th>\n",
       "      <td>6241.0</td>\n",
       "      <td>I Got a Neighbor</td>\n",
       "    </tr>\n",
       "    <tr>\n",
       "      <th>6243</th>\n",
       "      <td>6242.0</td>\n",
       "      <td>And This Is Still YouOriginal Mix</td>\n",
       "    </tr>\n",
       "  </tbody>\n",
       "</table>\n",
       "<p>6244 rows × 2 columns</p>\n",
       "</div>"
      ],
      "text/plain": [
       "           0                                            1\n",
       "0        NaN                                            0\n",
       "1        0.0       the Madonna and Child with the Infant \n",
       "2        1.0        the Virgin and Child with the Infant \n",
       "3        2.0                         and Bravo Cigarettes\n",
       "4        3.0  The Pirates Retreat from the Pirates of the\n",
       "...      ...                                          ...\n",
       "6239  6238.0                               theWuther Demo\n",
       "6240  6239.0                     the Man with a Gun Theme\n",
       "6241  6240.0                            Prelude in Sharp \n",
       "6242  6241.0                             I Got a Neighbor\n",
       "6243  6242.0            And This Is Still YouOriginal Mix\n",
       "\n",
       "[6244 rows x 2 columns]"
      ]
     },
     "execution_count": 52,
     "metadata": {},
     "output_type": "execute_result"
    }
   ],
   "source": [
    "df2 = pd.read_csv(\"TITLESSPELLCHECK9MAY.csv\", header=None)\n",
    "df2"
   ]
  },
  {
   "cell_type": "code",
   "execution_count": 53,
   "id": "34354107",
   "metadata": {},
   "outputs": [],
   "source": [
    "df2 = df2.drop(0)"
   ]
  },
  {
   "cell_type": "code",
   "execution_count": 54,
   "id": "d0499b0d",
   "metadata": {},
   "outputs": [
    {
     "data": {
      "text/plain": [
       "1            the Madonna and Child with the Infant \n",
       "2             the Virgin and Child with the Infant \n",
       "3                              and Bravo Cigarettes\n",
       "4       The Pirates Retreat from the Pirates of the\n",
       "5            from the Actresses seriesissued by Kin\n",
       "                           ...                     \n",
       "6239                                 theWuther Demo\n",
       "6240                       the Man with a Gun Theme\n",
       "6241                              Prelude in Sharp \n",
       "6242                               I Got a Neighbor\n",
       "6243              And This Is Still YouOriginal Mix\n",
       "Name: 1, Length: 6243, dtype: object"
      ]
     },
     "execution_count": 54,
     "metadata": {},
     "output_type": "execute_result"
    }
   ],
   "source": [
    "df2=df2[1]\n",
    "df2"
   ]
  },
  {
   "cell_type": "code",
   "execution_count": 55,
   "id": "e3be59af",
   "metadata": {},
   "outputs": [
    {
     "data": {
      "text/plain": [
       "count               26135\n",
       "unique              26014\n",
       "top       Do da Wordsmith\n",
       "freq                    5\n",
       "Name: 1, dtype: object"
      ]
     },
     "execution_count": 55,
     "metadata": {},
     "output_type": "execute_result"
    }
   ],
   "source": [
    "titles = pd.concat(\n",
    "    [df, df2],\n",
    "    axis=0,\n",
    "    join=\"outer\",\n",
    "    ignore_index=False,\n",
    "    keys=None,\n",
    "    levels=None,\n",
    "    names=None,\n",
    "    verify_integrity=False,\n",
    "    copy=True,\n",
    ")\n",
    "\n",
    "titles.describe()"
   ]
  },
  {
   "cell_type": "code",
   "execution_count": 56,
   "id": "bc7696c0",
   "metadata": {},
   "outputs": [
    {
     "data": {
      "text/plain": [
       "0                       Call on Me  Ryan Back \n",
       "1        You Make Me Feel Like A Natural Woman\n",
       "2                             Lush Life Is Now\n",
       "3           None Of These Dollars in the Black\n",
       "4              You Really Got Int Woman Enough\n",
       "                         ...                  \n",
       "26009                           theWuther Demo\n",
       "26010                 the Man with a Gun Theme\n",
       "26011                        Prelude in Sharp \n",
       "26012                         I Got a Neighbor\n",
       "26013        And This Is Still YouOriginal Mix\n",
       "Name: 1, Length: 26014, dtype: object"
      ]
     },
     "execution_count": 56,
     "metadata": {},
     "output_type": "execute_result"
    }
   ],
   "source": [
    "titles = titles.drop_duplicates()\n",
    "titles = titles.reset_index(drop=True)\n",
    "titles"
   ]
  },
  {
   "cell_type": "code",
   "execution_count": 40,
   "id": "1daf7491",
   "metadata": {},
   "outputs": [],
   "source": [
    "titles.to_csv(\"titlesfinal.csv\")"
   ]
  },
  {
   "cell_type": "markdown",
   "id": "0e5c730e",
   "metadata": {},
   "source": [
    "# Creating the vector matrix"
   ]
  },
  {
   "cell_type": "code",
   "execution_count": 119,
   "id": "54d41b7e",
   "metadata": {},
   "outputs": [
    {
     "data": {
      "text/plain": [
       "(26014, 10288)"
      ]
     },
     "execution_count": 119,
     "metadata": {},
     "output_type": "execute_result"
    }
   ],
   "source": [
    "#https://www.datacamp.com/tutorial/recommender-systems-python\n",
    "from sklearn.feature_extraction.text import TfidfVectorizer\n",
    "\n",
    "tfidf = TfidfVectorizer(stop_words='english')\n",
    "\n",
    "tfidf_matrix = tfidf.fit_transform(titles)\n",
    "\n",
    "tfidf_matrix.shape"
   ]
  },
  {
   "cell_type": "code",
   "execution_count": 117,
   "id": "c8396c60",
   "metadata": {},
   "outputs": [
    {
     "data": {
      "text/plain": [
       "['leaky',\n",
       " 'leaning',\n",
       " 'leap',\n",
       " 'learn',\n",
       " 'learning',\n",
       " 'learnthee',\n",
       " 'learnunplugged',\n",
       " 'lease',\n",
       " 'leather',\n",
       " 'leatherette']"
      ]
     },
     "execution_count": 117,
     "metadata": {},
     "output_type": "execute_result"
    }
   ],
   "source": [
    "tfidf.get_feature_names()[5000:5010]"
   ]
  },
  {
   "cell_type": "code",
   "execution_count": 108,
   "id": "1d93a8c4",
   "metadata": {},
   "outputs": [],
   "source": [
    "from sklearn.metrics.pairwise import linear_kernel\n",
    "\n",
    "# Compute the cosine similarity matrix\n",
    "cosine_sim = linear_kernel(tfidf_matrix, tfidf_matrix)"
   ]
  },
  {
   "cell_type": "code",
   "execution_count": 109,
   "id": "76df6ad5",
   "metadata": {},
   "outputs": [
    {
     "data": {
      "text/plain": [
       "(26014, 26014)"
      ]
     },
     "execution_count": 109,
     "metadata": {},
     "output_type": "execute_result"
    }
   ],
   "source": [
    "cosine_sim.shape"
   ]
  },
  {
   "cell_type": "code",
   "execution_count": 110,
   "id": "89338f15",
   "metadata": {},
   "outputs": [],
   "source": [
    "indices = pd.Series(titles.index, index=titles).drop_duplicates()"
   ]
  },
  {
   "cell_type": "markdown",
   "id": "4cabb93c",
   "metadata": {},
   "source": [
    "# Creating thumbs up & thumbs down functions"
   ]
  },
  {
   "cell_type": "code",
   "execution_count": 131,
   "id": "5a04816c",
   "metadata": {},
   "outputs": [],
   "source": [
    "#https://www.datacamp.com/tutorial/recommender-systems-python\n",
    "def thumbs_up(title, cosine_sim=cosine_sim):\n",
    "    \n",
    "    index = indices[title]\n",
    "\n",
    "    sim_scores = list(enumerate(cosine_sim[index]))\n",
    "\n",
    "    sim_scores = sorted(sim_scores, key=lambda x: x[1], reverse=True)\n",
    "\n",
    "    sim_scores = sim_scores[100:110] \n",
    "\n",
    "    prompt_indices = [i[0] for i in sim_scores]\n",
    "\n",
    "    return titles.iloc[prompt_indices]"
   ]
  },
  {
   "cell_type": "code",
   "execution_count": 121,
   "id": "dc5694e1",
   "metadata": {},
   "outputs": [],
   "source": [
    "#https://www.datacamp.com/tutorial/recommender-systems-python\n",
    "def thumbs_down(title, cosine_sim=cosine_sim):\n",
    "    \n",
    "    index = indices[title]\n",
    "\n",
    "    sim_scores = list(enumerate(cosine_sim[index]))\n",
    "\n",
    "    sim_scores = sorted(sim_scores, key=lambda x: x[1], reverse=True)\n",
    "\n",
    "    sim_scores = sim_scores[5000:5010] #This is set pretty far away!!!\n",
    "\n",
    "    prompt_indices = [i[0] for i in sim_scores]\n",
    "\n",
    "    return titles.iloc[prompt_indices]"
   ]
  },
  {
   "cell_type": "code",
   "execution_count": 134,
   "id": "7ed68d7a",
   "metadata": {},
   "outputs": [
    {
     "data": {
      "text/plain": [
       "6063                     Space By Night O I\n",
       "1646                         Boys Night Out\n",
       "18165                            Boys Night\n",
       "11355                    Grown Up All Night\n",
       "3986        Loves See What The Night Can Do\n",
       "8427               Stone The Night Together\n",
       "745                        Rivers All Night\n",
       "3500                   Rivers For The Night\n",
       "14457    The Fight Song No One Ava Max Left\n",
       "15295                           Carry Night\n",
       "Name: 1, dtype: object"
      ]
     },
     "execution_count": 134,
     "metadata": {},
     "output_type": "execute_result"
    }
   ],
   "source": [
    "thumbs_up('The Night They Fight')"
   ]
  },
  {
   "cell_type": "code",
   "execution_count": 133,
   "id": "126a9048",
   "metadata": {},
   "outputs": [
    {
     "data": {
      "text/plain": [
       "4744     Reverse The Most Off  Throw\n",
       "4745                     INN January\n",
       "4746                    Tears On You\n",
       "4747    I Long to Lady Jungle  El Ed\n",
       "4748                      Station   \n",
       "4749        Cirsonys Spaces To Prove\n",
       "4750                 Tone it Dreamer\n",
       "4751                Cherryapple Wine\n",
       "4752                         Facts  \n",
       "4753            Booming I Font  Sand\n",
       "Name: 1, dtype: object"
      ]
     },
     "execution_count": 133,
     "metadata": {},
     "output_type": "execute_result"
    }
   ],
   "source": [
    "thumbs_down('The Last Dreaming Night')"
   ]
  },
  {
   "cell_type": "code",
   "execution_count": 122,
   "id": "a2c48058",
   "metadata": {},
   "outputs": [
    {
     "data": {
      "text/plain": [
       "'Poll Rouge'"
      ]
     },
     "execution_count": 122,
     "metadata": {},
     "output_type": "execute_result"
    }
   ],
   "source": [
    "titles[2891]"
   ]
  },
  {
   "cell_type": "code",
   "execution_count": null,
   "id": "cba4eace",
   "metadata": {},
   "outputs": [],
   "source": []
  }
 ],
 "metadata": {
  "kernelspec": {
   "display_name": "Python 3 (ipykernel)",
   "language": "python",
   "name": "python3"
  },
  "language_info": {
   "codemirror_mode": {
    "name": "ipython",
    "version": 3
   },
   "file_extension": ".py",
   "mimetype": "text/x-python",
   "name": "python",
   "nbconvert_exporter": "python",
   "pygments_lexer": "ipython3",
   "version": "3.8.8"
  }
 },
 "nbformat": 4,
 "nbformat_minor": 5
}
